{
 "cells": [
  {
   "cell_type": "markdown",
   "metadata": {},
   "source": [
    "## Setup\n",
    "\n",
    "We begin by importing our dependencies."
   ]
  },
  {
   "cell_type": "code",
   "execution_count": 1,
   "metadata": {},
   "outputs": [],
   "source": [
    "import matplotlib.pyplot as plt\n",
    "import matplotlib.animation as animation\n",
    "import numpy as np\n",
    "\n",
    "import torch\n",
    "import torch.nn as nn\n",
    "import torch.optim as optim\n",
    "import torchvision\n",
    "\n",
    "import time"
   ]
  },
  {
   "cell_type": "markdown",
   "metadata": {},
   "source": [
    "Set our seed and other configurations for reproducibility."
   ]
  },
  {
   "cell_type": "code",
   "execution_count": 2,
   "metadata": {},
   "outputs": [],
   "source": [
    "seed = 42\n",
    "torch.manual_seed(seed)\n",
    "torch.backends.cudnn.deterministic = True"
   ]
  },
  {
   "cell_type": "markdown",
   "metadata": {},
   "source": [
    "## Dataset\n",
    "\n",
    "We load our MNIST dataset using the `torchvision` package. "
   ]
  },
  {
   "cell_type": "code",
   "execution_count": 3,
   "metadata": {},
   "outputs": [],
   "source": [
    "from model import *\n",
    "from data import *"
   ]
  },
  {
   "cell_type": "code",
   "execution_count": 4,
   "metadata": {
    "tags": []
   },
   "outputs": [
    {
     "name": "stdout",
     "output_type": "stream",
     "text": [
      "Wait for both datasets to be downloaded and verified.\n",
      "Files already downloaded and verified\n",
      "Files already downloaded and verified\n",
      "Examples:\n"
     ]
    }
   ],
   "source": [
    "batch_size = 1024 * 6\n",
    "dataset = Loader(batch_size=batch_size)\n",
    "trainloader = dataset.trainloader\n",
    "\n",
    "def examples(trainloader):\n",
    "    # get some random training images\n",
    "    dataiter = iter(trainloader)\n",
    "    images, _ = dataiter.next()\n",
    "\n",
    "    # show images\n",
    "    imshow(torchvision.utils.make_grid(images[:4]))\n",
    "\n",
    "def imshow(img):\n",
    "    img = img / 2 + 0.5     # unnormalize\n",
    "    npimg = img.numpy()\n",
    "    plt.imshow(np.transpose(npimg, (1, 2, 0)))\n",
    "    plt.show()\n",
    "\n",
    "\n",
    "print('Examples:')\n",
    "# examples(trainloader)"
   ]
  },
  {
   "cell_type": "markdown",
   "metadata": {},
   "source": [
    "## Autoencoder\n",
    "\n",
    "An autoencoder is a type of neural network that finds the function mapping the features x to itself. This objective is known as reconstruction, and an autoencoder accomplishes this through the following process: (1) an encoder learns the data representation in lower-dimension space, i.e. extracting the most salient features of the data, and (2) a decoder learns to reconstruct the original data based on the learned representation by the encoder.\n",
    "\n",
    "We define our autoencoder class with fully connected layers for both its encoder and decoder components."
   ]
  },
  {
   "cell_type": "markdown",
   "metadata": {},
   "source": [
    "Before using our defined autoencoder class, we have the following things to do:\n",
    "    1. We configure which device we want to run on.\n",
    "    2. We instantiate an `AE` object.\n",
    "    3. We define our optimizer.\n",
    "    4. We define our reconstruction loss."
   ]
  },
  {
   "cell_type": "code",
   "execution_count": 5,
   "metadata": {
    "tags": []
   },
   "outputs": [
    {
     "name": "stdout",
     "output_type": "stream",
     "text": [
      "Network: AE(\n",
      "  (encoder): Sequential(\n",
      "    (0): Conv2d(3, 6, kernel_size=(5, 5), stride=(1, 1))\n",
      "    (1): ReLU(inplace=True)\n",
      "    (2): Conv2d(6, 16, kernel_size=(5, 5), stride=(1, 1))\n",
      "    (3): ReLU(inplace=True)\n",
      "    (4): Conv2d(16, 32, kernel_size=(5, 5), stride=(1, 1))\n",
      "    (5): ReLU(inplace=True)\n",
      "  )\n",
      "  (decoder): Sequential(\n",
      "    (0): ConvTranspose2d(32, 16, kernel_size=(5, 5), stride=(1, 1))\n",
      "    (1): ReLU(inplace=True)\n",
      "    (2): ConvTranspose2d(16, 6, kernel_size=(5, 5), stride=(1, 1))\n",
      "    (3): ReLU(inplace=True)\n",
      "    (4): ConvTranspose2d(6, 3, kernel_size=(5, 5), stride=(1, 1))\n",
      "    (5): ReLU(inplace=True)\n",
      "  )\n",
      ")\n"
     ]
    }
   ],
   "source": [
    "#  use gpu if available\n",
    "device = torch.device(\"cuda\" if torch.cuda.is_available() else \"cpu\")\n",
    "\n",
    "# create a model from `AE` autoencoder class\n",
    "# load it to the specified device, either gpu or cpu\n",
    "net = AE().to(device)\n",
    "print('Network:', net)\n",
    "\n",
    "\n",
    "criterion = nn.MSELoss()\n",
    "optimizer = optim.Adam(net.parameters(), lr=1e-3)"
   ]
  },
  {
   "cell_type": "markdown",
   "metadata": {},
   "source": [
    "We train our autoencoder for our specified number of epochs."
   ]
  },
  {
   "cell_type": "code",
   "execution_count": 7,
   "metadata": {
    "tags": []
   },
   "outputs": [
    {
     "name": "stdout",
     "output_type": "stream",
     "text": [
      "start training\n",
      "Epoch 1 of 100, Train Loss: 0.255\n",
      "Epoch 2 of 100, Train Loss: 0.238\n",
      "Epoch 3 of 100, Train Loss: 0.223\n",
      "Epoch 4 of 100, Train Loss: 0.213\n",
      "Epoch 5 of 100, Train Loss: 0.200\n",
      "Epoch 6 of 100, Train Loss: 0.191\n",
      "Epoch 7 of 100, Train Loss: 0.185\n",
      "Epoch 8 of 100, Train Loss: 0.180\n",
      "Epoch 9 of 100, Train Loss: 0.177\n",
      "Epoch 10 of 100, Train Loss: 0.174\n",
      "Epoch 11 of 100, Train Loss: 0.172\n",
      "Epoch 12 of 100, Train Loss: 0.170\n",
      "Epoch 13 of 100, Train Loss: 0.169\n",
      "Epoch 14 of 100, Train Loss: 0.168\n",
      "Epoch 15 of 100, Train Loss: 0.166\n",
      "Epoch 16 of 100, Train Loss: 0.165\n",
      "Epoch 17 of 100, Train Loss: 0.165\n",
      "Epoch 18 of 100, Train Loss: 0.164\n",
      "Epoch 19 of 100, Train Loss: 0.163\n",
      "Epoch 20 of 100, Train Loss: 0.161\n",
      "Epoch 21 of 100, Train Loss: 0.162\n",
      "Epoch 22 of 100, Train Loss: 0.161\n",
      "Epoch 23 of 100, Train Loss: 0.161\n",
      "Epoch 24 of 100, Train Loss: 0.160\n",
      "Epoch 25 of 100, Train Loss: 0.159\n",
      "Epoch 26 of 100, Train Loss: 0.159\n",
      "Epoch 27 of 100, Train Loss: 0.158\n",
      "Epoch 28 of 100, Train Loss: 0.158\n",
      "Epoch 29 of 100, Train Loss: 0.158\n",
      "Epoch 30 of 100, Train Loss: 0.158\n",
      "Epoch 31 of 100, Train Loss: 0.157\n",
      "Epoch 32 of 100, Train Loss: 0.158\n",
      "Epoch 33 of 100, Train Loss: 0.158\n",
      "Epoch 34 of 100, Train Loss: 0.157\n",
      "Epoch 35 of 100, Train Loss: 0.157\n",
      "Epoch 36 of 100, Train Loss: 0.156\n",
      "Epoch 37 of 100, Train Loss: 0.156\n",
      "Epoch 38 of 100, Train Loss: 0.156\n",
      "Epoch 39 of 100, Train Loss: 0.155\n",
      "Epoch 40 of 100, Train Loss: 0.155\n",
      "Epoch 41 of 100, Train Loss: 0.155\n",
      "Epoch 42 of 100, Train Loss: 0.156\n",
      "Epoch 43 of 100, Train Loss: 0.155\n",
      "Epoch 44 of 100, Train Loss: 0.155\n",
      "Epoch 45 of 100, Train Loss: 0.155\n",
      "Epoch 46 of 100, Train Loss: 0.155\n",
      "Epoch 47 of 100, Train Loss: 0.154\n",
      "Epoch 48 of 100, Train Loss: 0.154\n",
      "Epoch 49 of 100, Train Loss: 0.153\n",
      "Epoch 50 of 100, Train Loss: 0.155\n",
      "Epoch 51 of 100, Train Loss: 0.154\n",
      "Epoch 52 of 100, Train Loss: 0.153\n",
      "Epoch 53 of 100, Train Loss: 0.153\n",
      "Epoch 54 of 100, Train Loss: 0.154\n",
      "Epoch 55 of 100, Train Loss: 0.155\n",
      "Epoch 56 of 100, Train Loss: 0.154\n",
      "Epoch 57 of 100, Train Loss: 0.154\n",
      "Epoch 58 of 100, Train Loss: 0.153\n",
      "Epoch 59 of 100, Train Loss: 0.153\n",
      "Epoch 60 of 100, Train Loss: 0.153\n",
      "Epoch 61 of 100, Train Loss: 0.153\n",
      "Epoch 62 of 100, Train Loss: 0.157\n",
      "Epoch 63 of 100, Train Loss: 0.154\n",
      "Epoch 64 of 100, Train Loss: 0.153\n",
      "Epoch 65 of 100, Train Loss: 0.153\n",
      "Epoch 66 of 100, Train Loss: 0.153\n",
      "Epoch 67 of 100, Train Loss: 0.152\n",
      "Epoch 68 of 100, Train Loss: 0.153\n",
      "Epoch 69 of 100, Train Loss: 0.152\n",
      "Epoch 70 of 100, Train Loss: 0.152\n",
      "Epoch 71 of 100, Train Loss: 0.152\n",
      "Epoch 72 of 100, Train Loss: 0.152\n",
      "Epoch 73 of 100, Train Loss: 0.152\n",
      "Epoch 74 of 100, Train Loss: 0.153\n",
      "Epoch 75 of 100, Train Loss: 0.152\n",
      "Epoch 76 of 100, Train Loss: 0.152\n",
      "Epoch 77 of 100, Train Loss: 0.151\n",
      "Epoch 78 of 100, Train Loss: 0.151\n",
      "Epoch 79 of 100, Train Loss: 0.152\n",
      "Epoch 80 of 100, Train Loss: 0.153\n",
      "Epoch 81 of 100, Train Loss: 0.152\n",
      "Epoch 82 of 100, Train Loss: 0.151\n",
      "Epoch 83 of 100, Train Loss: 0.151\n",
      "Epoch 84 of 100, Train Loss: 0.151\n",
      "Epoch 85 of 100, Train Loss: 0.151\n",
      "Epoch 86 of 100, Train Loss: 0.152\n",
      "Epoch 87 of 100, Train Loss: 0.152\n",
      "Epoch 88 of 100, Train Loss: 0.151\n",
      "Epoch 89 of 100, Train Loss: 0.151\n",
      "Epoch 90 of 100, Train Loss: 0.151\n",
      "Epoch 91 of 100, Train Loss: 0.151\n",
      "Epoch 92 of 100, Train Loss: 0.151\n",
      "Epoch 93 of 100, Train Loss: 0.151\n",
      "Epoch 94 of 100, Train Loss: 0.151\n",
      "Epoch 95 of 100, Train Loss: 0.151\n",
      "Epoch 96 of 100, Train Loss: 0.151\n",
      "Epoch 97 of 100, Train Loss: 0.152\n",
      "Epoch 98 of 100, Train Loss: 0.152\n",
      "Epoch 99 of 100, Train Loss: 0.151\n",
      "Epoch 100 of 100, Train Loss: 0.151\n",
      "Finished Training\n",
      "1402s\n"
     ]
    }
   ],
   "source": [
    "\"\"\"\n",
    "*******************************************************\n",
    "****** skip this step if you dont want to train *******\n",
    "*******************************************************\n",
    "\"\"\"\n",
    "\n",
    "\n",
    "print(\"start training\")\n",
    "# if PATH:\n",
    "#     net.load_state_dict(torch.load(PATH))\n",
    "#     net.to(device)\n",
    "\n",
    "def train(net, trainloader, NUM_EPOCHS):\n",
    "    train_loss = []\n",
    "    start_time = time.time()\n",
    "    for epoch in range(NUM_EPOCHS):\n",
    "        running_loss = 0.0\n",
    "        for data in trainloader:\n",
    "            img, _ = data\n",
    "            img = img.to(device)\n",
    "            optimizer.zero_grad()\n",
    "            outputs = net(img)\n",
    "            loss = criterion(outputs, img)\n",
    "            loss.backward()\n",
    "            optimizer.step()\n",
    "            running_loss += loss.item()\n",
    "        \n",
    "        loss = running_loss / len(trainloader)\n",
    "        train_loss.append(loss)\n",
    "        print('Epoch {} of {}, Train Loss: {:.3f}'.format(epoch+1, NUM_EPOCHS, loss))\n",
    " \n",
    "    print('Finished Training')\n",
    "    elapsed_time = time.time() - start_time\n",
    "    print(str( round(elapsed_time)) + 's')\n",
    "    return train_loss\n",
    "\n",
    " \n",
    "loss = train(net, dataset.trainloader, 100)"
   ]
  },
  {
   "cell_type": "code",
   "execution_count": 8,
   "metadata": {},
   "outputs": [
    {
     "data": {
      "image/png": "[encoded data removed]",
      "text/plain": [
       "<Figure size 432x288 with 1 Axes>"
      ]
     },
     "metadata": {
      "needs_background": "light"
     },
     "output_type": "display_data"
    }
   ],
   "source": [
    "fig, ax = plt.subplots()\n",
    "ax.plot(loss)\n",
    "ax.set(xlabel='epoch', ylabel='loss')\n",
    "ax.grid()\n",
    "plt.draw()"
   ]
  },
  {
   "cell_type": "code",
   "execution_count": 9,
   "metadata": {},
   "outputs": [],
   "source": [
    "PATH = './cifar_net.pth'\n",
    "torch.save(net.state_dict(), PATH)"
   ]
  },
  {
   "cell_type": "code",
   "execution_count": 11,
   "metadata": {
    "tags": []
   },
   "outputs": [
    {
     "name": "stdout",
     "output_type": "stream",
     "text": [
      "refrence image:\n"
     ]
    },
    {
     "data": {
      "image/png": "[encoded data removed]",
      "text/plain": [
       "<Figure size 432x288 with 1 Axes>"
      ]
     },
     "metadata": {
      "needs_background": "light"
     },
     "output_type": "display_data"
    },
    {
     "name": "stdout",
     "output_type": "stream",
     "text": [
      "distance: 0.0\n",
      "distance: 34.630643801842126\n",
      "distance: 35.74872408584493\n",
      "distance: 36.81038581609652\n",
      "distance: 37.0166674132944\n",
      "similar images:\n"
     ]
    },
    {
     "data": {
      "image/png": "[encoded data removed]",
      "text/plain": [
       "<Figure size 432x288 with 1 Axes>"
      ]
     },
     "metadata": {
      "needs_background": "light"
     },
     "output_type": "display_data"
    }
   ],
   "source": [
    "from eval import *\n",
    "\n",
    "# load test set\n",
    "dataset_iter = iter(dataset.testloader)\n",
    "\n",
    "images, _ = dataset_iter.next()\n",
    "\n",
    "# images = []\n",
    "# # classes = []\n",
    "# for data in dataset_iter:\n",
    "#     img, _ = data\n",
    "#     images.append(img)\n",
    "\n",
    "length = len(images)\n",
    "\n",
    "print('refrence image:')\n",
    "imshow(torchvision.utils.make_grid(images[0]))\n",
    "\n",
    "net = AE()\n",
    "net.load_state_dict(torch.load(PATH))\n",
    "net.getLatentSpace(True)\n",
    "outputs = net(images).data.numpy()\n",
    "outputShape = np.shape(outputs)\n",
    "\n",
    "\n",
    "outputs = outputs.flatten().reshape(length, np.prod(outputShape[1:]))\n",
    "\n",
    "closest = findNClosest(outputs[0], outputs, 5)\n",
    "\n",
    "closeImages = []\n",
    "for img in closest:\n",
    "    closeImages.append(images[int(img[-1])])\n",
    "    print(\"distance:\", img[-2])\n",
    "\n",
    "print(\"similar images:\")\n",
    "imshow(torchvision.utils.make_grid(closeImages))"
   ]
  },
  {
   "cell_type": "code",
   "execution_count": null,
   "metadata": {},
   "outputs": [],
   "source": []
  }
 ],
 "metadata": {
  "kernelspec": {
   "display_name": "Python 3",
   "language": "python",
   "name": "python3"
  },
  "language_info": {
   "codemirror_mode": {
    "name": "ipython",
    "version": 3
   },
   "file_extension": ".py",
   "mimetype": "text/x-python",
   "name": "python",
   "nbconvert_exporter": "python",
   "pygments_lexer": "ipython3",
   "version": "3.7.4"
  }
 },
 "nbformat": 4,
 "nbformat_minor": 4
}
